{
  "nbformat": 4,
  "nbformat_minor": 0,
  "metadata": {
    "colab": {
      "provenance": [],
      "authorship_tag": "ABX9TyOYBzJpK2Z7Mkmnc5YUD1V+"
    },
    "kernelspec": {
      "name": "python3",
      "display_name": "Python 3"
    },
    "language_info": {
      "name": "python"
    }
  },
  "cells": [
    {
      "cell_type": "markdown",
      "source": [
        "-------------------\n",
        "####Title: Homework 4 - Python\n",
        "####Topic: Regression in Python\n",
        "####Dataset: Tornados\n",
        "####Author: Shakir Ahmed\n",
        "####Date: 2023-11-13 (YYYY-MM-DD)\n",
        "-------------------"
      ],
      "metadata": {
        "id": "g6sYxOFbQzfH"
      }
    },
    {
      "cell_type": "markdown",
      "source": [
        "## Loading packages"
      ],
      "metadata": {
        "id": "GNXQv6N4Q64M"
      }
    },
    {
      "cell_type": "code",
      "execution_count": 83,
      "metadata": {
        "id": "wLpS317BQvnq"
      },
      "outputs": [],
      "source": [
        "import pandas as pd\n",
        "import numpy as np\n",
        "import matplotlib.pyplot as plt\n",
        "from sklearn import linear_model\n",
        "from sklearn.metrics import mean_squared_error, r2_score\n",
        "import seaborn as sns"
      ]
    },
    {
      "cell_type": "markdown",
      "source": [
        "# Data set load:\n",
        "\n",
        "##Tornados dataset Data Dictionary:\n",
        "\n",
        "|variable     |class     |description  |\n",
        "|:------------|:---------|:------------|\n",
        "|om           |integer   |Tornado number. Effectively an ID for this tornado in this year.|\n",
        "|yr           |integer   |Year, 1950-2022. |\n",
        "|mo           |integer   |Month, 1-12.|\n",
        "|dy           |integer   |Day of the month, 1-31. |\n",
        "|date         |date      |Date. |\n",
        "|time         |time      |Time. |\n",
        "|tz           |character |Canonical tz database timezone.|\n",
        "|datetime_utc |datetime  |Date and time normalized to UTC. |\n",
        "|st           |character |Two-letter postal abbreviation for the state (DC = Washington, DC; PR = Puerto Rico; VI = Virgin Islands). |\n",
        "|stf          |integer   |State FIPS (Federal Information Processing Standards) number. |\n",
        "|mag          |integer   |Magnitude on the F scale (EF beginning in 2007). Some of these values are estimated (see fc). |\n",
        "|inj          |integer   |Number of injuries. When summing for state totals, use sn == 1 (see below). |\n",
        "|fat          |integer   |Number of fatalities. When summing for state totals, use sn == 1 (see below). |\n",
        "|loss         |double    |Estimated property loss information in dollars. Prior to 1996, values were grouped into ranges. The reported number for such years is the maximum of its range. |\n",
        "|slat         |double    |Starting latitude in decimal degrees. |\n",
        "|slon         |double    |Starting longitude in decimal degrees. |\n",
        "|elat         |double    |Ending latitude in decimal degrees. |\n",
        "|elon         |double    |Ending longitude in decimal degrees. |\n",
        "|len          |double    |Length in miles. |\n",
        "|wid          |double    |Width in yards. |\n",
        "|ns           |integer   |Number of states affected by this tornado. 1, 2, or 3. |\n",
        "|sn           |integer   |State number for this row. 1 means the row contains the entire track information for this state, 0 means there is at least one more entry for this state for this tornado (om + yr). |\n",
        "|f1           |integer   |FIPS code for the 1st county. |\n",
        "|f2           |integer   |FIPS code for the 2nd county. |\n",
        "|f3           |integer   |FIPS code for the 3rd county. |\n",
        "|f4           |integer   |FIPS code for the 4th county. |\n",
        "|fc           |logical   |Was the mag column estimated? |\n",
        "\n",
        "\n",
        "Using Pandas dataset to read the csv file in github `data` folder. Data cleaning is done to remove all the NA values from the data. This reduces the total data instances from 68,693 to 41,517. We are going to use these instances for further processing."
      ],
      "metadata": {
        "id": "-w4AQrIzVgpl"
      }
    },
    {
      "cell_type": "code",
      "source": [
        "tornado = pd.read_csv('https://raw.githubusercontent.com/INFO-523-Exercises/hw-04-Shakir-Ahmed/main/data/tornados.csv', header='infer', na_values='NA')\n",
        "\n",
        "# Drop rows with empty or NA values\n",
        "tornado = tornado.dropna()\n",
        "\n",
        "#Displaying the data head\n",
        "tornado"
      ],
      "metadata": {
        "colab": {
          "base_uri": "https://localhost:8080/",
          "height": 423
        },
        "id": "nFlj4u6cVgcc",
        "outputId": "811c345b-a98d-47c5-f3a1-5c2f56156be3"
      },
      "execution_count": 84,
      "outputs": [
        {
          "output_type": "execute_result",
          "data": {
            "text/plain": [
              "           om    yr  mo  dy        date      time               tz  \\\n",
              "0         192  1950  10   1  1950-10-01  21:00:00  America/Chicago   \n",
              "1         193  1950  10   9  1950-10-09  02:15:00  America/Chicago   \n",
              "2         195  1950  11  20  1950-11-20  02:20:00  America/Chicago   \n",
              "3         196  1950  11  20  1950-11-20  04:00:00  America/Chicago   \n",
              "4         197  1950  11  20  1950-11-20  07:30:00  America/Chicago   \n",
              "...       ...   ...  ..  ..         ...       ...              ...   \n",
              "68683  621917  2022   9  27  2022-09-27  19:30:00  America/Chicago   \n",
              "68685  621919  2022   9  27  2022-09-27  23:31:00  America/Chicago   \n",
              "68686  621920  2022   9  28  2022-09-28  00:25:00  America/Chicago   \n",
              "68687  621921  2022   9  28  2022-09-28  03:56:00  America/Chicago   \n",
              "68691  621900  2022   9   4  2022-09-04  15:44:00  America/Chicago   \n",
              "\n",
              "               datetime_utc  st  stf  ...      elon    len  wid  ns  sn   f1  \\\n",
              "0      1950-10-02T03:00:00Z  OK   40  ... -102.3000  15.80   10   1   1   25   \n",
              "1      1950-10-09T08:15:00Z  NC   37  ...    0.0000   2.00  880   1   1   47   \n",
              "2      1950-11-20T08:20:00Z  KY   21  ...    0.0000   0.10   10   1   1  177   \n",
              "3      1950-11-20T10:00:00Z  KY   21  ...    0.0000   0.10   10   1   1  209   \n",
              "4      1950-11-20T13:30:00Z  MS   28  ...    0.0000   2.00   37   1   1  101   \n",
              "...                     ...  ..  ...  ...       ...    ...  ...  ..  ..  ...   \n",
              "68683  2022-09-28T00:30:00Z  FL   12  ...  -80.3499   1.39  100   1   1   99   \n",
              "68685  2022-09-28T04:31:00Z  FL   12  ...  -80.3297   0.06   50   1   1   11   \n",
              "68686  2022-09-28T05:25:00Z  FL   12  ...  -81.0912   1.09   75   1   1   43   \n",
              "68687  2022-09-28T08:56:00Z  FL   12  ...  -80.0680   0.20   50   1   1   99   \n",
              "68691  2022-09-04T20:44:00Z  OH   39  ...  -80.6555   0.07   15   1   1   99   \n",
              "\n",
              "       f2  f3  f4     fc  \n",
              "0       0   0   0  False  \n",
              "1       0   0   0  False  \n",
              "2       0   0   0  False  \n",
              "3       0   0   0  False  \n",
              "4       0   0   0  False  \n",
              "...    ..  ..  ..    ...  \n",
              "68683   0   0   0  False  \n",
              "68685   0   0   0  False  \n",
              "68686   0   0   0  False  \n",
              "68687   0   0   0  False  \n",
              "68691   0   0   0  False  \n",
              "\n",
              "[41517 rows x 27 columns]"
            ],
            "text/html": [
              "\n",
              "  <div id=\"df-861f9a07-b525-4de5-9be4-935cd50e0af3\" class=\"colab-df-container\">\n",
              "    <div>\n",
              "<style scoped>\n",
              "    .dataframe tbody tr th:only-of-type {\n",
              "        vertical-align: middle;\n",
              "    }\n",
              "\n",
              "    .dataframe tbody tr th {\n",
              "        vertical-align: top;\n",
              "    }\n",
              "\n",
              "    .dataframe thead th {\n",
              "        text-align: right;\n",
              "    }\n",
              "</style>\n",
              "<table border=\"1\" class=\"dataframe\">\n",
              "  <thead>\n",
              "    <tr style=\"text-align: right;\">\n",
              "      <th></th>\n",
              "      <th>om</th>\n",
              "      <th>yr</th>\n",
              "      <th>mo</th>\n",
              "      <th>dy</th>\n",
              "      <th>date</th>\n",
              "      <th>time</th>\n",
              "      <th>tz</th>\n",
              "      <th>datetime_utc</th>\n",
              "      <th>st</th>\n",
              "      <th>stf</th>\n",
              "      <th>...</th>\n",
              "      <th>elon</th>\n",
              "      <th>len</th>\n",
              "      <th>wid</th>\n",
              "      <th>ns</th>\n",
              "      <th>sn</th>\n",
              "      <th>f1</th>\n",
              "      <th>f2</th>\n",
              "      <th>f3</th>\n",
              "      <th>f4</th>\n",
              "      <th>fc</th>\n",
              "    </tr>\n",
              "  </thead>\n",
              "  <tbody>\n",
              "    <tr>\n",
              "      <th>0</th>\n",
              "      <td>192</td>\n",
              "      <td>1950</td>\n",
              "      <td>10</td>\n",
              "      <td>1</td>\n",
              "      <td>1950-10-01</td>\n",
              "      <td>21:00:00</td>\n",
              "      <td>America/Chicago</td>\n",
              "      <td>1950-10-02T03:00:00Z</td>\n",
              "      <td>OK</td>\n",
              "      <td>40</td>\n",
              "      <td>...</td>\n",
              "      <td>-102.3000</td>\n",
              "      <td>15.80</td>\n",
              "      <td>10</td>\n",
              "      <td>1</td>\n",
              "      <td>1</td>\n",
              "      <td>25</td>\n",
              "      <td>0</td>\n",
              "      <td>0</td>\n",
              "      <td>0</td>\n",
              "      <td>False</td>\n",
              "    </tr>\n",
              "    <tr>\n",
              "      <th>1</th>\n",
              "      <td>193</td>\n",
              "      <td>1950</td>\n",
              "      <td>10</td>\n",
              "      <td>9</td>\n",
              "      <td>1950-10-09</td>\n",
              "      <td>02:15:00</td>\n",
              "      <td>America/Chicago</td>\n",
              "      <td>1950-10-09T08:15:00Z</td>\n",
              "      <td>NC</td>\n",
              "      <td>37</td>\n",
              "      <td>...</td>\n",
              "      <td>0.0000</td>\n",
              "      <td>2.00</td>\n",
              "      <td>880</td>\n",
              "      <td>1</td>\n",
              "      <td>1</td>\n",
              "      <td>47</td>\n",
              "      <td>0</td>\n",
              "      <td>0</td>\n",
              "      <td>0</td>\n",
              "      <td>False</td>\n",
              "    </tr>\n",
              "    <tr>\n",
              "      <th>2</th>\n",
              "      <td>195</td>\n",
              "      <td>1950</td>\n",
              "      <td>11</td>\n",
              "      <td>20</td>\n",
              "      <td>1950-11-20</td>\n",
              "      <td>02:20:00</td>\n",
              "      <td>America/Chicago</td>\n",
              "      <td>1950-11-20T08:20:00Z</td>\n",
              "      <td>KY</td>\n",
              "      <td>21</td>\n",
              "      <td>...</td>\n",
              "      <td>0.0000</td>\n",
              "      <td>0.10</td>\n",
              "      <td>10</td>\n",
              "      <td>1</td>\n",
              "      <td>1</td>\n",
              "      <td>177</td>\n",
              "      <td>0</td>\n",
              "      <td>0</td>\n",
              "      <td>0</td>\n",
              "      <td>False</td>\n",
              "    </tr>\n",
              "    <tr>\n",
              "      <th>3</th>\n",
              "      <td>196</td>\n",
              "      <td>1950</td>\n",
              "      <td>11</td>\n",
              "      <td>20</td>\n",
              "      <td>1950-11-20</td>\n",
              "      <td>04:00:00</td>\n",
              "      <td>America/Chicago</td>\n",
              "      <td>1950-11-20T10:00:00Z</td>\n",
              "      <td>KY</td>\n",
              "      <td>21</td>\n",
              "      <td>...</td>\n",
              "      <td>0.0000</td>\n",
              "      <td>0.10</td>\n",
              "      <td>10</td>\n",
              "      <td>1</td>\n",
              "      <td>1</td>\n",
              "      <td>209</td>\n",
              "      <td>0</td>\n",
              "      <td>0</td>\n",
              "      <td>0</td>\n",
              "      <td>False</td>\n",
              "    </tr>\n",
              "    <tr>\n",
              "      <th>4</th>\n",
              "      <td>197</td>\n",
              "      <td>1950</td>\n",
              "      <td>11</td>\n",
              "      <td>20</td>\n",
              "      <td>1950-11-20</td>\n",
              "      <td>07:30:00</td>\n",
              "      <td>America/Chicago</td>\n",
              "      <td>1950-11-20T13:30:00Z</td>\n",
              "      <td>MS</td>\n",
              "      <td>28</td>\n",
              "      <td>...</td>\n",
              "      <td>0.0000</td>\n",
              "      <td>2.00</td>\n",
              "      <td>37</td>\n",
              "      <td>1</td>\n",
              "      <td>1</td>\n",
              "      <td>101</td>\n",
              "      <td>0</td>\n",
              "      <td>0</td>\n",
              "      <td>0</td>\n",
              "      <td>False</td>\n",
              "    </tr>\n",
              "    <tr>\n",
              "      <th>...</th>\n",
              "      <td>...</td>\n",
              "      <td>...</td>\n",
              "      <td>...</td>\n",
              "      <td>...</td>\n",
              "      <td>...</td>\n",
              "      <td>...</td>\n",
              "      <td>...</td>\n",
              "      <td>...</td>\n",
              "      <td>...</td>\n",
              "      <td>...</td>\n",
              "      <td>...</td>\n",
              "      <td>...</td>\n",
              "      <td>...</td>\n",
              "      <td>...</td>\n",
              "      <td>...</td>\n",
              "      <td>...</td>\n",
              "      <td>...</td>\n",
              "      <td>...</td>\n",
              "      <td>...</td>\n",
              "      <td>...</td>\n",
              "      <td>...</td>\n",
              "    </tr>\n",
              "    <tr>\n",
              "      <th>68683</th>\n",
              "      <td>621917</td>\n",
              "      <td>2022</td>\n",
              "      <td>9</td>\n",
              "      <td>27</td>\n",
              "      <td>2022-09-27</td>\n",
              "      <td>19:30:00</td>\n",
              "      <td>America/Chicago</td>\n",
              "      <td>2022-09-28T00:30:00Z</td>\n",
              "      <td>FL</td>\n",
              "      <td>12</td>\n",
              "      <td>...</td>\n",
              "      <td>-80.3499</td>\n",
              "      <td>1.39</td>\n",
              "      <td>100</td>\n",
              "      <td>1</td>\n",
              "      <td>1</td>\n",
              "      <td>99</td>\n",
              "      <td>0</td>\n",
              "      <td>0</td>\n",
              "      <td>0</td>\n",
              "      <td>False</td>\n",
              "    </tr>\n",
              "    <tr>\n",
              "      <th>68685</th>\n",
              "      <td>621919</td>\n",
              "      <td>2022</td>\n",
              "      <td>9</td>\n",
              "      <td>27</td>\n",
              "      <td>2022-09-27</td>\n",
              "      <td>23:31:00</td>\n",
              "      <td>America/Chicago</td>\n",
              "      <td>2022-09-28T04:31:00Z</td>\n",
              "      <td>FL</td>\n",
              "      <td>12</td>\n",
              "      <td>...</td>\n",
              "      <td>-80.3297</td>\n",
              "      <td>0.06</td>\n",
              "      <td>50</td>\n",
              "      <td>1</td>\n",
              "      <td>1</td>\n",
              "      <td>11</td>\n",
              "      <td>0</td>\n",
              "      <td>0</td>\n",
              "      <td>0</td>\n",
              "      <td>False</td>\n",
              "    </tr>\n",
              "    <tr>\n",
              "      <th>68686</th>\n",
              "      <td>621920</td>\n",
              "      <td>2022</td>\n",
              "      <td>9</td>\n",
              "      <td>28</td>\n",
              "      <td>2022-09-28</td>\n",
              "      <td>00:25:00</td>\n",
              "      <td>America/Chicago</td>\n",
              "      <td>2022-09-28T05:25:00Z</td>\n",
              "      <td>FL</td>\n",
              "      <td>12</td>\n",
              "      <td>...</td>\n",
              "      <td>-81.0912</td>\n",
              "      <td>1.09</td>\n",
              "      <td>75</td>\n",
              "      <td>1</td>\n",
              "      <td>1</td>\n",
              "      <td>43</td>\n",
              "      <td>0</td>\n",
              "      <td>0</td>\n",
              "      <td>0</td>\n",
              "      <td>False</td>\n",
              "    </tr>\n",
              "    <tr>\n",
              "      <th>68687</th>\n",
              "      <td>621921</td>\n",
              "      <td>2022</td>\n",
              "      <td>9</td>\n",
              "      <td>28</td>\n",
              "      <td>2022-09-28</td>\n",
              "      <td>03:56:00</td>\n",
              "      <td>America/Chicago</td>\n",
              "      <td>2022-09-28T08:56:00Z</td>\n",
              "      <td>FL</td>\n",
              "      <td>12</td>\n",
              "      <td>...</td>\n",
              "      <td>-80.0680</td>\n",
              "      <td>0.20</td>\n",
              "      <td>50</td>\n",
              "      <td>1</td>\n",
              "      <td>1</td>\n",
              "      <td>99</td>\n",
              "      <td>0</td>\n",
              "      <td>0</td>\n",
              "      <td>0</td>\n",
              "      <td>False</td>\n",
              "    </tr>\n",
              "    <tr>\n",
              "      <th>68691</th>\n",
              "      <td>621900</td>\n",
              "      <td>2022</td>\n",
              "      <td>9</td>\n",
              "      <td>4</td>\n",
              "      <td>2022-09-04</td>\n",
              "      <td>15:44:00</td>\n",
              "      <td>America/Chicago</td>\n",
              "      <td>2022-09-04T20:44:00Z</td>\n",
              "      <td>OH</td>\n",
              "      <td>39</td>\n",
              "      <td>...</td>\n",
              "      <td>-80.6555</td>\n",
              "      <td>0.07</td>\n",
              "      <td>15</td>\n",
              "      <td>1</td>\n",
              "      <td>1</td>\n",
              "      <td>99</td>\n",
              "      <td>0</td>\n",
              "      <td>0</td>\n",
              "      <td>0</td>\n",
              "      <td>False</td>\n",
              "    </tr>\n",
              "  </tbody>\n",
              "</table>\n",
              "<p>41517 rows × 27 columns</p>\n",
              "</div>\n",
              "    <div class=\"colab-df-buttons\">\n",
              "\n",
              "  <div class=\"colab-df-container\">\n",
              "    <button class=\"colab-df-convert\" onclick=\"convertToInteractive('df-861f9a07-b525-4de5-9be4-935cd50e0af3')\"\n",
              "            title=\"Convert this dataframe to an interactive table.\"\n",
              "            style=\"display:none;\">\n",
              "\n",
              "  <svg xmlns=\"http://www.w3.org/2000/svg\" height=\"24px\" viewBox=\"0 -960 960 960\">\n",
              "    <path d=\"M120-120v-720h720v720H120Zm60-500h600v-160H180v160Zm220 220h160v-160H400v160Zm0 220h160v-160H400v160ZM180-400h160v-160H180v160Zm440 0h160v-160H620v160ZM180-180h160v-160H180v160Zm440 0h160v-160H620v160Z\"/>\n",
              "  </svg>\n",
              "    </button>\n",
              "\n",
              "  <style>\n",
              "    .colab-df-container {\n",
              "      display:flex;\n",
              "      gap: 12px;\n",
              "    }\n",
              "\n",
              "    .colab-df-convert {\n",
              "      background-color: #E8F0FE;\n",
              "      border: none;\n",
              "      border-radius: 50%;\n",
              "      cursor: pointer;\n",
              "      display: none;\n",
              "      fill: #1967D2;\n",
              "      height: 32px;\n",
              "      padding: 0 0 0 0;\n",
              "      width: 32px;\n",
              "    }\n",
              "\n",
              "    .colab-df-convert:hover {\n",
              "      background-color: #E2EBFA;\n",
              "      box-shadow: 0px 1px 2px rgba(60, 64, 67, 0.3), 0px 1px 3px 1px rgba(60, 64, 67, 0.15);\n",
              "      fill: #174EA6;\n",
              "    }\n",
              "\n",
              "    .colab-df-buttons div {\n",
              "      margin-bottom: 4px;\n",
              "    }\n",
              "\n",
              "    [theme=dark] .colab-df-convert {\n",
              "      background-color: #3B4455;\n",
              "      fill: #D2E3FC;\n",
              "    }\n",
              "\n",
              "    [theme=dark] .colab-df-convert:hover {\n",
              "      background-color: #434B5C;\n",
              "      box-shadow: 0px 1px 3px 1px rgba(0, 0, 0, 0.15);\n",
              "      filter: drop-shadow(0px 1px 2px rgba(0, 0, 0, 0.3));\n",
              "      fill: #FFFFFF;\n",
              "    }\n",
              "  </style>\n",
              "\n",
              "    <script>\n",
              "      const buttonEl =\n",
              "        document.querySelector('#df-861f9a07-b525-4de5-9be4-935cd50e0af3 button.colab-df-convert');\n",
              "      buttonEl.style.display =\n",
              "        google.colab.kernel.accessAllowed ? 'block' : 'none';\n",
              "\n",
              "      async function convertToInteractive(key) {\n",
              "        const element = document.querySelector('#df-861f9a07-b525-4de5-9be4-935cd50e0af3');\n",
              "        const dataTable =\n",
              "          await google.colab.kernel.invokeFunction('convertToInteractive',\n",
              "                                                    [key], {});\n",
              "        if (!dataTable) return;\n",
              "\n",
              "        const docLinkHtml = 'Like what you see? Visit the ' +\n",
              "          '<a target=\"_blank\" href=https://colab.research.google.com/notebooks/data_table.ipynb>data table notebook</a>'\n",
              "          + ' to learn more about interactive tables.';\n",
              "        element.innerHTML = '';\n",
              "        dataTable['output_type'] = 'display_data';\n",
              "        await google.colab.output.renderOutput(dataTable, element);\n",
              "        const docLink = document.createElement('div');\n",
              "        docLink.innerHTML = docLinkHtml;\n",
              "        element.appendChild(docLink);\n",
              "      }\n",
              "    </script>\n",
              "  </div>\n",
              "\n",
              "\n",
              "<div id=\"df-f5b11e1b-edb1-4214-a753-4f609c53c4a8\">\n",
              "  <button class=\"colab-df-quickchart\" onclick=\"quickchart('df-f5b11e1b-edb1-4214-a753-4f609c53c4a8')\"\n",
              "            title=\"Suggest charts\"\n",
              "            style=\"display:none;\">\n",
              "\n",
              "<svg xmlns=\"http://www.w3.org/2000/svg\" height=\"24px\"viewBox=\"0 0 24 24\"\n",
              "     width=\"24px\">\n",
              "    <g>\n",
              "        <path d=\"M19 3H5c-1.1 0-2 .9-2 2v14c0 1.1.9 2 2 2h14c1.1 0 2-.9 2-2V5c0-1.1-.9-2-2-2zM9 17H7v-7h2v7zm4 0h-2V7h2v10zm4 0h-2v-4h2v4z\"/>\n",
              "    </g>\n",
              "</svg>\n",
              "  </button>\n",
              "\n",
              "<style>\n",
              "  .colab-df-quickchart {\n",
              "      --bg-color: #E8F0FE;\n",
              "      --fill-color: #1967D2;\n",
              "      --hover-bg-color: #E2EBFA;\n",
              "      --hover-fill-color: #174EA6;\n",
              "      --disabled-fill-color: #AAA;\n",
              "      --disabled-bg-color: #DDD;\n",
              "  }\n",
              "\n",
              "  [theme=dark] .colab-df-quickchart {\n",
              "      --bg-color: #3B4455;\n",
              "      --fill-color: #D2E3FC;\n",
              "      --hover-bg-color: #434B5C;\n",
              "      --hover-fill-color: #FFFFFF;\n",
              "      --disabled-bg-color: #3B4455;\n",
              "      --disabled-fill-color: #666;\n",
              "  }\n",
              "\n",
              "  .colab-df-quickchart {\n",
              "    background-color: var(--bg-color);\n",
              "    border: none;\n",
              "    border-radius: 50%;\n",
              "    cursor: pointer;\n",
              "    display: none;\n",
              "    fill: var(--fill-color);\n",
              "    height: 32px;\n",
              "    padding: 0;\n",
              "    width: 32px;\n",
              "  }\n",
              "\n",
              "  .colab-df-quickchart:hover {\n",
              "    background-color: var(--hover-bg-color);\n",
              "    box-shadow: 0 1px 2px rgba(60, 64, 67, 0.3), 0 1px 3px 1px rgba(60, 64, 67, 0.15);\n",
              "    fill: var(--button-hover-fill-color);\n",
              "  }\n",
              "\n",
              "  .colab-df-quickchart-complete:disabled,\n",
              "  .colab-df-quickchart-complete:disabled:hover {\n",
              "    background-color: var(--disabled-bg-color);\n",
              "    fill: var(--disabled-fill-color);\n",
              "    box-shadow: none;\n",
              "  }\n",
              "\n",
              "  .colab-df-spinner {\n",
              "    border: 2px solid var(--fill-color);\n",
              "    border-color: transparent;\n",
              "    border-bottom-color: var(--fill-color);\n",
              "    animation:\n",
              "      spin 1s steps(1) infinite;\n",
              "  }\n",
              "\n",
              "  @keyframes spin {\n",
              "    0% {\n",
              "      border-color: transparent;\n",
              "      border-bottom-color: var(--fill-color);\n",
              "      border-left-color: var(--fill-color);\n",
              "    }\n",
              "    20% {\n",
              "      border-color: transparent;\n",
              "      border-left-color: var(--fill-color);\n",
              "      border-top-color: var(--fill-color);\n",
              "    }\n",
              "    30% {\n",
              "      border-color: transparent;\n",
              "      border-left-color: var(--fill-color);\n",
              "      border-top-color: var(--fill-color);\n",
              "      border-right-color: var(--fill-color);\n",
              "    }\n",
              "    40% {\n",
              "      border-color: transparent;\n",
              "      border-right-color: var(--fill-color);\n",
              "      border-top-color: var(--fill-color);\n",
              "    }\n",
              "    60% {\n",
              "      border-color: transparent;\n",
              "      border-right-color: var(--fill-color);\n",
              "    }\n",
              "    80% {\n",
              "      border-color: transparent;\n",
              "      border-right-color: var(--fill-color);\n",
              "      border-bottom-color: var(--fill-color);\n",
              "    }\n",
              "    90% {\n",
              "      border-color: transparent;\n",
              "      border-bottom-color: var(--fill-color);\n",
              "    }\n",
              "  }\n",
              "</style>\n",
              "\n",
              "  <script>\n",
              "    async function quickchart(key) {\n",
              "      const quickchartButtonEl =\n",
              "        document.querySelector('#' + key + ' button');\n",
              "      quickchartButtonEl.disabled = true;  // To prevent multiple clicks.\n",
              "      quickchartButtonEl.classList.add('colab-df-spinner');\n",
              "      try {\n",
              "        const charts = await google.colab.kernel.invokeFunction(\n",
              "            'suggestCharts', [key], {});\n",
              "      } catch (error) {\n",
              "        console.error('Error during call to suggestCharts:', error);\n",
              "      }\n",
              "      quickchartButtonEl.classList.remove('colab-df-spinner');\n",
              "      quickchartButtonEl.classList.add('colab-df-quickchart-complete');\n",
              "    }\n",
              "    (() => {\n",
              "      let quickchartButtonEl =\n",
              "        document.querySelector('#df-f5b11e1b-edb1-4214-a753-4f609c53c4a8 button');\n",
              "      quickchartButtonEl.style.display =\n",
              "        google.colab.kernel.accessAllowed ? 'block' : 'none';\n",
              "    })();\n",
              "  </script>\n",
              "</div>\n",
              "    </div>\n",
              "  </div>\n"
            ]
          },
          "metadata": {},
          "execution_count": 84
        }
      ]
    },
    {
      "cell_type": "markdown",
      "source": [
        "# Scatter plot\n",
        "\n",
        "Below is the code to create a scatter plot of the tornados dataset. Variables considered for this plot is `len` which is the length of the tornado and the `inj` column, which is the total number of injuries due to the tornado. A smoothing line (best fit) is created using the seaborn library and using sns.regplot with scatter plot and a smooth line fit."
      ],
      "metadata": {
        "id": "A1--h0oHHer8"
      }
    },
    {
      "cell_type": "code",
      "source": [
        "# Scatter plot with a regression line for tornado data\n",
        "sns.regplot(x='len', y='inj', data=tornado, scatter_kws={'alpha':0.3})\n",
        "plt.title('Scatter Plot of Length vs Injuries with Regression Line')\n",
        "plt.xlabel('Length (miles)')\n",
        "plt.ylabel('Number of Injuries')\n",
        "plt.show()"
      ],
      "metadata": {
        "colab": {
          "base_uri": "https://localhost:8080/",
          "height": 472
        },
        "id": "VrPE0twvHeev",
        "outputId": "5e5a8d24-4ecd-4f41-f3a3-a986d89f5688"
      },
      "execution_count": 85,
      "outputs": [
        {
          "output_type": "display_data",
          "data": {
            "text/plain": [
              "<Figure size 640x480 with 1 Axes>"
            ],
            "image/png": "[encoded data removed]"
          },
          "metadata": {}
        }
      ]
    },
    {
      "cell_type": "markdown",
      "source": [
        "# Multiple Linear Regression\n",
        "\n",
        "Multiple Linear Regression explores the connection between a dependent variable and several independent variables. It extends simple linear regression, enabling the assessment of multiple predictors' impact on the outcome. This method builds a linear equation to predict the dependent variable, making it effective for analyzing complex datasets and understanding relationships among multiple factors."
      ],
      "metadata": {
        "id": "HnsAkAVLiH0h"
      }
    },
    {
      "cell_type": "markdown",
      "source": [
        "## Step 1: Split Input Data into Training and Test Sets\n",
        "\n",
        "In this step, we are going to define the variables needed for consideration as well as defining what parameter we want to predict. I am choosing to split the dataset as 80% for testing (as defined in the original honework) and 20% for training.\n",
        "Total number of instances after cleaning is 41,517. I am going to split the data into the following:\n",
        "\n",
        "Training- 20% - 8304\n",
        "\n",
        "Testing- 80% - 33213"
      ],
      "metadata": {
        "id": "4lu1KPFRiMFG"
      }
    },
    {
      "cell_type": "code",
      "source": [
        "# Initialising columns\n",
        "X = tornado[['len']]\n",
        "y = tornado[['inj']]\n",
        "\n",
        "# Set the number of instances,training and testing\n",
        "numInstances= len(tornado) # Total number of rows in the data\n",
        "numTrain = 4152  # number of training instances as 10% of complete data\n",
        "numTest = numInstances - numTrain\n",
        "\n",
        "# Split data into training and testing sets\n",
        "X_train = X[-numTest:]\n",
        "X_test = X[:-numTest]\n",
        "y_train = y[-numTest:]\n",
        "y_test = y[:-numTest]"
      ],
      "metadata": {
        "id": "4YkWl7vdiHoP"
      },
      "execution_count": 98,
      "outputs": []
    },
    {
      "cell_type": "markdown",
      "source": [
        "## Step 2: Fit Regression Model to Training Set\n",
        "Following lines of code is to initiate the regression model and use the `X_train` and `y_train` data frames for training of the model."
      ],
      "metadata": {
        "id": "MdtFUbWErjq_"
      }
    },
    {
      "cell_type": "code",
      "source": [
        "# Create linear regression object\n",
        "regr = linear_model.LinearRegression()\n",
        "\n",
        "# Fit regression model to the training set\n",
        "regr.fit(X_train, y_train)"
      ],
      "metadata": {
        "colab": {
          "base_uri": "https://localhost:8080/",
          "height": 74
        },
        "id": "GSEwDCAkrjd3",
        "outputId": "952e1a0d-6135-4be1-aa50-4e72525c2910"
      },
      "execution_count": 99,
      "outputs": [
        {
          "output_type": "execute_result",
          "data": {
            "text/plain": [
              "LinearRegression()"
            ],
            "text/html": [
              "<style>#sk-container-id-18 {color: black;background-color: white;}#sk-container-id-18 pre{padding: 0;}#sk-container-id-18 div.sk-toggleable {background-color: white;}#sk-container-id-18 label.sk-toggleable__label {cursor: pointer;display: block;width: 100%;margin-bottom: 0;padding: 0.3em;box-sizing: border-box;text-align: center;}#sk-container-id-18 label.sk-toggleable__label-arrow:before {content: \"▸\";float: left;margin-right: 0.25em;color: #696969;}#sk-container-id-18 label.sk-toggleable__label-arrow:hover:before {color: black;}#sk-container-id-18 div.sk-estimator:hover label.sk-toggleable__label-arrow:before {color: black;}#sk-container-id-18 div.sk-toggleable__content {max-height: 0;max-width: 0;overflow: hidden;text-align: left;background-color: #f0f8ff;}#sk-container-id-18 div.sk-toggleable__content pre {margin: 0.2em;color: black;border-radius: 0.25em;background-color: #f0f8ff;}#sk-container-id-18 input.sk-toggleable__control:checked~div.sk-toggleable__content {max-height: 200px;max-width: 100%;overflow: auto;}#sk-container-id-18 input.sk-toggleable__control:checked~label.sk-toggleable__label-arrow:before {content: \"▾\";}#sk-container-id-18 div.sk-estimator input.sk-toggleable__control:checked~label.sk-toggleable__label {background-color: #d4ebff;}#sk-container-id-18 div.sk-label input.sk-toggleable__control:checked~label.sk-toggleable__label {background-color: #d4ebff;}#sk-container-id-18 input.sk-hidden--visually {border: 0;clip: rect(1px 1px 1px 1px);clip: rect(1px, 1px, 1px, 1px);height: 1px;margin: -1px;overflow: hidden;padding: 0;position: absolute;width: 1px;}#sk-container-id-18 div.sk-estimator {font-family: monospace;background-color: #f0f8ff;border: 1px dotted black;border-radius: 0.25em;box-sizing: border-box;margin-bottom: 0.5em;}#sk-container-id-18 div.sk-estimator:hover {background-color: #d4ebff;}#sk-container-id-18 div.sk-parallel-item::after {content: \"\";width: 100%;border-bottom: 1px solid gray;flex-grow: 1;}#sk-container-id-18 div.sk-label:hover label.sk-toggleable__label {background-color: #d4ebff;}#sk-container-id-18 div.sk-serial::before {content: \"\";position: absolute;border-left: 1px solid gray;box-sizing: border-box;top: 0;bottom: 0;left: 50%;z-index: 0;}#sk-container-id-18 div.sk-serial {display: flex;flex-direction: column;align-items: center;background-color: white;padding-right: 0.2em;padding-left: 0.2em;position: relative;}#sk-container-id-18 div.sk-item {position: relative;z-index: 1;}#sk-container-id-18 div.sk-parallel {display: flex;align-items: stretch;justify-content: center;background-color: white;position: relative;}#sk-container-id-18 div.sk-item::before, #sk-container-id-18 div.sk-parallel-item::before {content: \"\";position: absolute;border-left: 1px solid gray;box-sizing: border-box;top: 0;bottom: 0;left: 50%;z-index: -1;}#sk-container-id-18 div.sk-parallel-item {display: flex;flex-direction: column;z-index: 1;position: relative;background-color: white;}#sk-container-id-18 div.sk-parallel-item:first-child::after {align-self: flex-end;width: 50%;}#sk-container-id-18 div.sk-parallel-item:last-child::after {align-self: flex-start;width: 50%;}#sk-container-id-18 div.sk-parallel-item:only-child::after {width: 0;}#sk-container-id-18 div.sk-dashed-wrapped {border: 1px dashed gray;margin: 0 0.4em 0.5em 0.4em;box-sizing: border-box;padding-bottom: 0.4em;background-color: white;}#sk-container-id-18 div.sk-label label {font-family: monospace;font-weight: bold;display: inline-block;line-height: 1.2em;}#sk-container-id-18 div.sk-label-container {text-align: center;}#sk-container-id-18 div.sk-container {/* jupyter's `normalize.less` sets `[hidden] { display: none; }` but bootstrap.min.css set `[hidden] { display: none !important; }` so we also need the `!important` here to be able to override the default hidden behavior on the sphinx rendered scikit-learn.org. See: https://github.com/scikit-learn/scikit-learn/issues/21755 */display: inline-block !important;position: relative;}#sk-container-id-18 div.sk-text-repr-fallback {display: none;}</style><div id=\"sk-container-id-18\" class=\"sk-top-container\"><div class=\"sk-text-repr-fallback\"><pre>LinearRegression()</pre><b>In a Jupyter environment, please rerun this cell to show the HTML representation or trust the notebook. <br />On GitHub, the HTML representation is unable to render, please try loading this page with nbviewer.org.</b></div><div class=\"sk-container\" hidden><div class=\"sk-item\"><div class=\"sk-estimator sk-toggleable\"><input class=\"sk-toggleable__control sk-hidden--visually\" id=\"sk-estimator-id-18\" type=\"checkbox\" checked><label for=\"sk-estimator-id-18\" class=\"sk-toggleable__label sk-toggleable__label-arrow\">LinearRegression</label><div class=\"sk-toggleable__content\"><pre>LinearRegression()</pre></div></div></div></div></div>"
            ]
          },
          "metadata": {},
          "execution_count": 99
        }
      ]
    },
    {
      "cell_type": "markdown",
      "source": [
        "## Step 3: Apply Model to the Test Set\n",
        "Now that the model is trained using the training dataset, we are going to predict the values of y based on the `X_test` dataframe. I.e. we are going to predict the total number of injuries based on the length of tornado in th testing data frame."
      ],
      "metadata": {
        "id": "Gsi8FXPmv52A"
      }
    },
    {
      "cell_type": "code",
      "source": [
        "# Apply model to the test set\n",
        "y_pred_test = regr.predict(X_test)"
      ],
      "metadata": {
        "id": "_-jksvLlv5pH"
      },
      "execution_count": 100,
      "outputs": []
    },
    {
      "cell_type": "markdown",
      "source": [
        "## Step 4: Evaluate Model Performance on Test Set\n",
        "For the ease of comprehension, we are going to plot the `y_test` which is the true value, vs the `y_pred_test`, which is the prediction parameter which we found in the above step. Now, it is easy to visualize the true values vs predicted values."
      ],
      "metadata": {
        "id": "Yb0p_hnQv-Et"
      }
    },
    {
      "cell_type": "code",
      "source": [
        "# Comparing true versus predicted values\n",
        "plt.scatter(y_test, y_pred_test, color='black')\n",
        "plt.title('Comparing true and predicted values for test set')\n",
        "plt.xlabel('True values')\n",
        "plt.ylabel('Predicted values')\n",
        "\n",
        "# Model evaluation\n",
        "print(\"Root mean squared error = %.4f\" % np.sqrt(mean_squared_error(y_test, y_pred_test)))"
      ],
      "metadata": {
        "colab": {
          "base_uri": "https://localhost:8080/",
          "height": 490
        },
        "id": "WIH-b9o6v94x",
        "outputId": "4f910311-14bf-4620-e70d-aa87238693e3"
      },
      "execution_count": 101,
      "outputs": [
        {
          "output_type": "stream",
          "name": "stdout",
          "text": [
            "Root mean squared error = 30.8118\n"
          ]
        },
        {
          "output_type": "display_data",
          "data": {
            "text/plain": [
              "<Figure size 640x480 with 1 Axes>"
            ],
            "image/png": "[encoded data removed]"
          },
          "metadata": {}
        }
      ]
    },
    {
      "cell_type": "markdown",
      "source": [
        "**Observation:** From the aboev plot, we can find out that most of the actual values and predicted values lie within the range of 0 to a little over 100. There are some outliers in the plot, however for the evaluation of model performance, we will find out parameters like Root Mean Squared error and R-Squared error.\n",
        "\n",
        "RMS error is 20.08, and R-Squared error is 0.067."
      ],
      "metadata": {
        "id": "_siMgNRZbIcx"
      }
    },
    {
      "cell_type": "code",
      "source": [
        "print('R-squared = %.4f' % r2_score(y_test, y_pred_test))"
      ],
      "metadata": {
        "colab": {
          "base_uri": "https://localhost:8080/"
        },
        "id": "KlLoprQUwO7M",
        "outputId": "6b3c39d5-ca43-4ab6-f666-e991a24d8f2a"
      },
      "execution_count": 90,
      "outputs": [
        {
          "output_type": "stream",
          "name": "stdout",
          "text": [
            "R-squared = 0.0090\n"
          ]
        }
      ]
    },
    {
      "cell_type": "markdown",
      "source": [
        "## Step 5: Postprocessing\n",
        "To plot another visual, we are going to calculate the slope and interecept to recreate a line with a fit with the general line equation y=mx+c, where x and y are the `length` and `injuries` variables, `m` is the slope and `c` is the intercept."
      ],
      "metadata": {
        "id": "yCCxjcR8OSCS"
      }
    },
    {
      "cell_type": "code",
      "source": [
        "# Display model parameters\n",
        "print('Slope = ', regr.coef_[0][0])"
      ],
      "metadata": {
        "colab": {
          "base_uri": "https://localhost:8080/"
        },
        "id": "IU_BWjfB8DEE",
        "outputId": "463ab365-15b9-44a5-e9c6-4675bded2dab"
      },
      "execution_count": 91,
      "outputs": [
        {
          "output_type": "stream",
          "name": "stdout",
          "text": [
            "Slope =  0.6484082625010105\n"
          ]
        }
      ]
    },
    {
      "cell_type": "code",
      "source": [
        "print('Intercept = ', regr.intercept_[0])### Step 4: Postprocessing"
      ],
      "metadata": {
        "colab": {
          "base_uri": "https://localhost:8080/"
        },
        "id": "Eo_90gEpOX4w",
        "outputId": "9c212163-dabf-46af-92a0-ee34f2fe5eba"
      },
      "execution_count": 92,
      "outputs": [
        {
          "output_type": "stream",
          "name": "stdout",
          "text": [
            "Intercept =  -0.8449751758308581\n"
          ]
        }
      ]
    },
    {
      "cell_type": "markdown",
      "source": [
        "Below plot is to plot the scatter plot of original data of `X-test` and `y_test` as a scatter plot, and `X_test` and `y_pred_test` as a line plot to show the line plot of the testing vs predicted outcmoe."
      ],
      "metadata": {
        "id": "TNpo3SbOc38z"
      }
    },
    {
      "cell_type": "code",
      "source": [
        "# Plot outputs\n",
        "plt.scatter(X_test, y_test,  color='black')\n",
        "plt.plot(X_test, y_pred_test, color='blue', linewidth=3)\n",
        "titlestr = 'Predicted Function: y = %.2fX + %.2f' % (regr.coef_[0], regr.intercept_[0])\n",
        "plt.title(titlestr)\n",
        "plt.xlabel('X')\n",
        "plt.ylabel('y')"
      ],
      "metadata": {
        "colab": {
          "base_uri": "https://localhost:8080/",
          "height": 490
        },
        "id": "E3FbkjrQObkX",
        "outputId": "89d7bf04-0a32-4911-eeac-e024d354fd9d"
      },
      "execution_count": 93,
      "outputs": [
        {
          "output_type": "execute_result",
          "data": {
            "text/plain": [
              "Text(0, 0.5, 'y')"
            ]
          },
          "metadata": {},
          "execution_count": 93
        },
        {
          "output_type": "display_data",
          "data": {
            "text/plain": [
              "<Figure size 640x480 with 1 Axes>"
            ],
            "image/png": "[encoded data removed]"
          },
          "metadata": {}
        }
      ]
    },
    {
      "cell_type": "markdown",
      "source": [
        "# Effect of Correlated Attributes\n"
      ],
      "metadata": {
        "id": "G-mJf-LIeJVV"
      }
    },
    {
      "cell_type": "code",
      "source": [
        "import numpy as np\n",
        "import matplotlib.pyplot as plt\n",
        "\n",
        "# Assuming data is your DataFrame\n",
        "\n",
        "variable_names = tornado[['om','slat', 'slon', 'elat', 'elon', 'f1', 'f2', 'f3', 'f4', 'yr', 'mo', 'dy', 'len', 'wid']]\n",
        "X = tornado['f2']\n",
        "\n",
        "for i in range(variable_names.shape[1]):\n",
        "    X2 = variable_names.iloc[:, i]\n",
        "\n",
        "    # Calculate correlation matrix for the current pair\n",
        "    c = np.corrcoef(np.column_stack((X[:-numTest], X2[:-numTest])).T)\n",
        "    titlestr = f'Correlation between X and X2 ({variable_names.columns[i]}) = {c[0, 1]:.4f}'\n",
        "    print(f\"{titlestr}:\\n{X2}\\n\")"
      ],
      "metadata": {
        "colab": {
          "base_uri": "https://localhost:8080/"
        },
        "id": "f2UnInWDqy5a",
        "outputId": "8cc0b283-aa1d-4a64-86ff-68f1e82f6df5"
      },
      "execution_count": 94,
      "outputs": [
        {
          "output_type": "stream",
          "name": "stdout",
          "text": [
            "Correlation between X and X2 (om) = -0.0357:\n",
            "0           192\n",
            "1           193\n",
            "2           195\n",
            "3           196\n",
            "4           197\n",
            "          ...  \n",
            "68683    621917\n",
            "68685    621919\n",
            "68686    621920\n",
            "68687    621921\n",
            "68691    621900\n",
            "Name: om, Length: 41517, dtype: int64\n",
            "\n",
            "Correlation between X and X2 (slat) = -0.0408:\n",
            "0        36.7300\n",
            "1        34.1700\n",
            "2        37.3700\n",
            "3        38.2000\n",
            "4        32.4200\n",
            "          ...   \n",
            "68683    26.7338\n",
            "68685    26.1123\n",
            "68686    26.8270\n",
            "68687    26.5282\n",
            "68691    41.0210\n",
            "Name: slat, Length: 41517, dtype: float64\n",
            "\n",
            "Correlation between X and X2 (slon) = -0.0029:\n",
            "0       -102.5200\n",
            "1        -78.6000\n",
            "2        -87.2000\n",
            "3        -84.5000\n",
            "4        -89.1300\n",
            "           ...   \n",
            "68683    -80.3355\n",
            "68685    -80.3297\n",
            "68686    -81.0781\n",
            "68687    -80.0680\n",
            "68691    -80.6559\n",
            "Name: slon, Length: 41517, dtype: float64\n",
            "\n",
            "Correlation between X and X2 (elat) = 0.3084:\n",
            "0        36.8800\n",
            "1         0.0000\n",
            "2         0.0000\n",
            "3         0.0000\n",
            "4         0.0000\n",
            "          ...   \n",
            "68683    26.7487\n",
            "68685    26.1131\n",
            "68686    26.8376\n",
            "68687    26.5282\n",
            "68691    41.0220\n",
            "Name: elat, Length: 41517, dtype: float64\n",
            "\n",
            "Correlation between X and X2 (elon) = -0.3179:\n",
            "0       -102.3000\n",
            "1          0.0000\n",
            "2          0.0000\n",
            "3          0.0000\n",
            "4          0.0000\n",
            "           ...   \n",
            "68683    -80.3499\n",
            "68685    -80.3297\n",
            "68686    -81.0912\n",
            "68687    -80.0680\n",
            "68691    -80.6555\n",
            "Name: elon, Length: 41517, dtype: float64\n",
            "\n",
            "Correlation between X and X2 (f1) = 0.0533:\n",
            "0         25\n",
            "1         47\n",
            "2        177\n",
            "3        209\n",
            "4        101\n",
            "        ... \n",
            "68683     99\n",
            "68685     11\n",
            "68686     43\n",
            "68687     99\n",
            "68691     99\n",
            "Name: f1, Length: 41517, dtype: int64\n",
            "\n",
            "Correlation between X and X2 (f2) = 1.0000:\n",
            "0        0\n",
            "1        0\n",
            "2        0\n",
            "3        0\n",
            "4        0\n",
            "        ..\n",
            "68683    0\n",
            "68685    0\n",
            "68686    0\n",
            "68687    0\n",
            "68691    0\n",
            "Name: f2, Length: 41517, dtype: int64\n",
            "\n",
            "Correlation between X and X2 (f3) = 0.4031:\n",
            "0        0\n",
            "1        0\n",
            "2        0\n",
            "3        0\n",
            "4        0\n",
            "        ..\n",
            "68683    0\n",
            "68685    0\n",
            "68686    0\n",
            "68687    0\n",
            "68691    0\n",
            "Name: f3, Length: 41517, dtype: int64\n",
            "\n",
            "Correlation between X and X2 (f4) = 0.2318:\n",
            "0        0\n",
            "1        0\n",
            "2        0\n",
            "3        0\n",
            "4        0\n",
            "        ..\n",
            "68683    0\n",
            "68685    0\n",
            "68686    0\n",
            "68687    0\n",
            "68691    0\n",
            "Name: f4, Length: 41517, dtype: int64\n",
            "\n",
            "Correlation between X and X2 (yr) = -0.0094:\n",
            "0        1950\n",
            "1        1950\n",
            "2        1950\n",
            "3        1950\n",
            "4        1950\n",
            "         ... \n",
            "68683    2022\n",
            "68685    2022\n",
            "68686    2022\n",
            "68687    2022\n",
            "68691    2022\n",
            "Name: yr, Length: 41517, dtype: int64\n",
            "\n",
            "Correlation between X and X2 (mo) = -0.0222:\n",
            "0        10\n",
            "1        10\n",
            "2        11\n",
            "3        11\n",
            "4        11\n",
            "         ..\n",
            "68683     9\n",
            "68685     9\n",
            "68686     9\n",
            "68687     9\n",
            "68691     9\n",
            "Name: mo, Length: 41517, dtype: int64\n",
            "\n",
            "Correlation between X and X2 (dy) = -0.0336:\n",
            "0         1\n",
            "1         9\n",
            "2        20\n",
            "3        20\n",
            "4        20\n",
            "         ..\n",
            "68683    27\n",
            "68685    27\n",
            "68686    28\n",
            "68687    28\n",
            "68691     4\n",
            "Name: dy, Length: 41517, dtype: int64\n",
            "\n",
            "Correlation between X and X2 (len) = 0.4284:\n",
            "0        15.80\n",
            "1         2.00\n",
            "2         0.10\n",
            "3         0.10\n",
            "4         2.00\n",
            "         ...  \n",
            "68683     1.39\n",
            "68685     0.06\n",
            "68686     1.09\n",
            "68687     0.20\n",
            "68691     0.07\n",
            "Name: len, Length: 41517, dtype: float64\n",
            "\n",
            "Correlation between X and X2 (wid) = 0.0988:\n",
            "0         10\n",
            "1        880\n",
            "2         10\n",
            "3         10\n",
            "4         37\n",
            "        ... \n",
            "68683    100\n",
            "68685     50\n",
            "68686     75\n",
            "68687     50\n",
            "68691     15\n",
            "Name: wid, Length: 41517, dtype: int64\n",
            "\n"
          ]
        }
      ]
    },
    {
      "cell_type": "code",
      "source": [
        "# Generate correlated variables\n",
        "X2 = tornado[['elat']]\n",
        "X3 = tornado[['elon']]\n",
        "X4 = tornado[['f2']]\n",
        "X5 = tornado[['f3']]\n",
        "\n",
        "# Plot and calculate correlation for X and X2\n",
        "fig, ((ax1, ax2),(ax3,ax4)) = plt.subplots(2, 2, figsize=(12,9))\n",
        "ax1.scatter(X, X2, color='black')\n",
        "ax1.set_xlabel('X')\n",
        "ax1.set_ylabel('X2')\n",
        "c = np.corrcoef(np.column_stack((X[:-numTest],X2[:-numTest])).T)\n",
        "titlestr = 'Correlation between X and X2 = %.4f' % (c[0,1])\n",
        "ax1.set_title(titlestr)\n",
        "\n",
        "# Plot and calculate correlation for X2 and X3\n",
        "ax2.scatter(X2, X3, color='black')\n",
        "ax2.set_xlabel('X2')\n",
        "ax2.set_ylabel('X3')\n",
        "c = np.corrcoef(np.column_stack((X2[:-numTest],X3[:-numTest])).T)\n",
        "titlestr = 'Correlation between X2 and X3 = %.4f' % (c[0,1])\n",
        "ax2.set_title(titlestr)\n",
        "\n",
        "# Plot and calculate correlation for X3 and X4\n",
        "ax3.scatter(X3, X4, color='black')\n",
        "ax3.set_xlabel('X3')\n",
        "ax3.set_ylabel('X4')\n",
        "c = np.corrcoef(np.column_stack((X3[:-numTest],X4[:-numTest])).T)\n",
        "titlestr = 'Correlation between X3 and X4 = %.4f' % (c[0,1])\n",
        "ax3.set_title(titlestr)\n",
        "\n",
        "# Plot and calculate correlation for X4 and X5\n",
        "ax4.scatter(X4, X5, color='black')\n",
        "ax4.set_xlabel('X4')\n",
        "ax4.set_ylabel('X5')\n",
        "c = np.corrcoef(np.column_stack((X4[:-numTest],X5[:-numTest])).T)\n",
        "titlestr = 'Correlation between X4 and X5 = %.4f' % (c[0,1])\n",
        "ax4.set_title(titlestr)\n"
      ],
      "metadata": {
        "colab": {
          "base_uri": "https://localhost:8080/",
          "height": 813
        },
        "id": "pFnNpPxdeJGS",
        "outputId": "521b9004-112e-493d-fa01-ff053950a828"
      },
      "execution_count": 95,
      "outputs": [
        {
          "output_type": "execute_result",
          "data": {
            "text/plain": [
              "Text(0.5, 1.0, 'Correlation between X4 and X5 = 0.4031')"
            ]
          },
          "metadata": {},
          "execution_count": 95
        },
        {
          "output_type": "display_data",
          "data": {
            "text/plain": [
              "<Figure size 1200x900 with 4 Axes>"
            ],
            "image/png": "[encoded data removed]"
          },
          "metadata": {}
        }
      ]
    },
    {
      "cell_type": "code",
      "source": [
        "X_train2 = np.column_stack((X[:-numTest],X2[:-numTest]))\n",
        "X_test2 = np.column_stack((X[-numTest:],X2[-numTest:]))\n",
        "X_train3 = np.column_stack((X[:-numTest],X2[:-numTest],X3[:-numTest]))\n",
        "X_test3 = np.column_stack((X[-numTest:],X2[-numTest:],X3[-numTest:]))\n",
        "X_train4 = np.column_stack((X[:-numTest],X2[:-numTest],X3[:-numTest],X4[:-numTest]))\n",
        "X_test4 = np.column_stack((X[-numTest:],X2[-numTest:],X3[-numTest:],X4[-numTest:]))\n",
        "X_train5 = np.column_stack((X[:-numTest],X2[:-numTest],X3[:-numTest],X4[:-numTest],X5[:-numTest]))\n",
        "X_test5 = np.column_stack((X[-numTest:],X2[-numTest:],X3[-numTest:],X4[-numTest:],X5[-numTest:]))"
      ],
      "metadata": {
        "id": "XHCv5_Iuyq_-"
      },
      "execution_count": 96,
      "outputs": []
    },
    {
      "cell_type": "code",
      "source": [
        "regr2 = linear_model.LinearRegression()\n",
        "regr2.fit(X_train2, y_train)"
      ],
      "metadata": {
        "colab": {
          "base_uri": "https://localhost:8080/",
          "height": 350
        },
        "id": "TDt6fmU6ytMG",
        "outputId": "58cb9a00-3ffb-4a0e-c935-3d79bd063246"
      },
      "execution_count": 97,
      "outputs": [
        {
          "output_type": "error",
          "ename": "ValueError",
          "evalue": "ignored",
          "traceback": [
            "\u001b[0;31m---------------------------------------------------------------------------\u001b[0m",
            "\u001b[0;31mValueError\u001b[0m                                Traceback (most recent call last)",
            "\u001b[0;32m<ipython-input-97-a7db6f71ca10>\u001b[0m in \u001b[0;36m<cell line: 2>\u001b[0;34m()\u001b[0m\n\u001b[1;32m      1\u001b[0m \u001b[0mregr2\u001b[0m \u001b[0;34m=\u001b[0m \u001b[0mlinear_model\u001b[0m\u001b[0;34m.\u001b[0m\u001b[0mLinearRegression\u001b[0m\u001b[0;34m(\u001b[0m\u001b[0;34m)\u001b[0m\u001b[0;34m\u001b[0m\u001b[0;34m\u001b[0m\u001b[0m\n\u001b[0;32m----> 2\u001b[0;31m \u001b[0mregr2\u001b[0m\u001b[0;34m.\u001b[0m\u001b[0mfit\u001b[0m\u001b[0;34m(\u001b[0m\u001b[0mX_train2\u001b[0m\u001b[0;34m,\u001b[0m \u001b[0my_train\u001b[0m\u001b[0;34m)\u001b[0m\u001b[0;34m\u001b[0m\u001b[0;34m\u001b[0m\u001b[0m\n\u001b[0m",
            "\u001b[0;32m/usr/local/lib/python3.10/dist-packages/sklearn/linear_model/_base.py\u001b[0m in \u001b[0;36mfit\u001b[0;34m(self, X, y, sample_weight)\u001b[0m\n\u001b[1;32m    646\u001b[0m         \u001b[0maccept_sparse\u001b[0m \u001b[0;34m=\u001b[0m \u001b[0;32mFalse\u001b[0m \u001b[0;32mif\u001b[0m \u001b[0mself\u001b[0m\u001b[0;34m.\u001b[0m\u001b[0mpositive\u001b[0m \u001b[0;32melse\u001b[0m \u001b[0;34m[\u001b[0m\u001b[0;34m\"csr\"\u001b[0m\u001b[0;34m,\u001b[0m \u001b[0;34m\"csc\"\u001b[0m\u001b[0;34m,\u001b[0m \u001b[0;34m\"coo\"\u001b[0m\u001b[0;34m]\u001b[0m\u001b[0;34m\u001b[0m\u001b[0;34m\u001b[0m\u001b[0m\n\u001b[1;32m    647\u001b[0m \u001b[0;34m\u001b[0m\u001b[0m\n\u001b[0;32m--> 648\u001b[0;31m         X, y = self._validate_data(\n\u001b[0m\u001b[1;32m    649\u001b[0m             \u001b[0mX\u001b[0m\u001b[0;34m,\u001b[0m \u001b[0my\u001b[0m\u001b[0;34m,\u001b[0m \u001b[0maccept_sparse\u001b[0m\u001b[0;34m=\u001b[0m\u001b[0maccept_sparse\u001b[0m\u001b[0;34m,\u001b[0m \u001b[0my_numeric\u001b[0m\u001b[0;34m=\u001b[0m\u001b[0;32mTrue\u001b[0m\u001b[0;34m,\u001b[0m \u001b[0mmulti_output\u001b[0m\u001b[0;34m=\u001b[0m\u001b[0;32mTrue\u001b[0m\u001b[0;34m\u001b[0m\u001b[0;34m\u001b[0m\u001b[0m\n\u001b[1;32m    650\u001b[0m         )\n",
            "\u001b[0;32m/usr/local/lib/python3.10/dist-packages/sklearn/base.py\u001b[0m in \u001b[0;36m_validate_data\u001b[0;34m(self, X, y, reset, validate_separately, **check_params)\u001b[0m\n\u001b[1;32m    582\u001b[0m                 \u001b[0my\u001b[0m \u001b[0;34m=\u001b[0m \u001b[0mcheck_array\u001b[0m\u001b[0;34m(\u001b[0m\u001b[0my\u001b[0m\u001b[0;34m,\u001b[0m \u001b[0minput_name\u001b[0m\u001b[0;34m=\u001b[0m\u001b[0;34m\"y\"\u001b[0m\u001b[0;34m,\u001b[0m \u001b[0;34m**\u001b[0m\u001b[0mcheck_y_params\u001b[0m\u001b[0;34m)\u001b[0m\u001b[0;34m\u001b[0m\u001b[0;34m\u001b[0m\u001b[0m\n\u001b[1;32m    583\u001b[0m             \u001b[0;32melse\u001b[0m\u001b[0;34m:\u001b[0m\u001b[0;34m\u001b[0m\u001b[0;34m\u001b[0m\u001b[0m\n\u001b[0;32m--> 584\u001b[0;31m                 \u001b[0mX\u001b[0m\u001b[0;34m,\u001b[0m \u001b[0my\u001b[0m \u001b[0;34m=\u001b[0m \u001b[0mcheck_X_y\u001b[0m\u001b[0;34m(\u001b[0m\u001b[0mX\u001b[0m\u001b[0;34m,\u001b[0m \u001b[0my\u001b[0m\u001b[0;34m,\u001b[0m \u001b[0;34m**\u001b[0m\u001b[0mcheck_params\u001b[0m\u001b[0;34m)\u001b[0m\u001b[0;34m\u001b[0m\u001b[0;34m\u001b[0m\u001b[0m\n\u001b[0m\u001b[1;32m    585\u001b[0m             \u001b[0mout\u001b[0m \u001b[0;34m=\u001b[0m \u001b[0mX\u001b[0m\u001b[0;34m,\u001b[0m \u001b[0my\u001b[0m\u001b[0;34m\u001b[0m\u001b[0;34m\u001b[0m\u001b[0m\n\u001b[1;32m    586\u001b[0m \u001b[0;34m\u001b[0m\u001b[0m\n",
            "\u001b[0;32m/usr/local/lib/python3.10/dist-packages/sklearn/utils/validation.py\u001b[0m in \u001b[0;36mcheck_X_y\u001b[0;34m(X, y, accept_sparse, accept_large_sparse, dtype, order, copy, force_all_finite, ensure_2d, allow_nd, multi_output, ensure_min_samples, ensure_min_features, y_numeric, estimator)\u001b[0m\n\u001b[1;32m   1122\u001b[0m     \u001b[0my\u001b[0m \u001b[0;34m=\u001b[0m \u001b[0m_check_y\u001b[0m\u001b[0;34m(\u001b[0m\u001b[0my\u001b[0m\u001b[0;34m,\u001b[0m \u001b[0mmulti_output\u001b[0m\u001b[0;34m=\u001b[0m\u001b[0mmulti_output\u001b[0m\u001b[0;34m,\u001b[0m \u001b[0my_numeric\u001b[0m\u001b[0;34m=\u001b[0m\u001b[0my_numeric\u001b[0m\u001b[0;34m,\u001b[0m \u001b[0mestimator\u001b[0m\u001b[0;34m=\u001b[0m\u001b[0mestimator\u001b[0m\u001b[0;34m)\u001b[0m\u001b[0;34m\u001b[0m\u001b[0;34m\u001b[0m\u001b[0m\n\u001b[1;32m   1123\u001b[0m \u001b[0;34m\u001b[0m\u001b[0m\n\u001b[0;32m-> 1124\u001b[0;31m     \u001b[0mcheck_consistent_length\u001b[0m\u001b[0;34m(\u001b[0m\u001b[0mX\u001b[0m\u001b[0;34m,\u001b[0m \u001b[0my\u001b[0m\u001b[0;34m)\u001b[0m\u001b[0;34m\u001b[0m\u001b[0;34m\u001b[0m\u001b[0m\n\u001b[0m\u001b[1;32m   1125\u001b[0m \u001b[0;34m\u001b[0m\u001b[0m\n\u001b[1;32m   1126\u001b[0m     \u001b[0;32mreturn\u001b[0m \u001b[0mX\u001b[0m\u001b[0;34m,\u001b[0m \u001b[0my\u001b[0m\u001b[0;34m\u001b[0m\u001b[0;34m\u001b[0m\u001b[0m\n",
            "\u001b[0;32m/usr/local/lib/python3.10/dist-packages/sklearn/utils/validation.py\u001b[0m in \u001b[0;36mcheck_consistent_length\u001b[0;34m(*arrays)\u001b[0m\n\u001b[1;32m    395\u001b[0m     \u001b[0muniques\u001b[0m \u001b[0;34m=\u001b[0m \u001b[0mnp\u001b[0m\u001b[0;34m.\u001b[0m\u001b[0munique\u001b[0m\u001b[0;34m(\u001b[0m\u001b[0mlengths\u001b[0m\u001b[0;34m)\u001b[0m\u001b[0;34m\u001b[0m\u001b[0;34m\u001b[0m\u001b[0m\n\u001b[1;32m    396\u001b[0m     \u001b[0;32mif\u001b[0m \u001b[0mlen\u001b[0m\u001b[0;34m(\u001b[0m\u001b[0muniques\u001b[0m\u001b[0;34m)\u001b[0m \u001b[0;34m>\u001b[0m \u001b[0;36m1\u001b[0m\u001b[0;34m:\u001b[0m\u001b[0;34m\u001b[0m\u001b[0;34m\u001b[0m\u001b[0m\n\u001b[0;32m--> 397\u001b[0;31m         raise ValueError(\n\u001b[0m\u001b[1;32m    398\u001b[0m             \u001b[0;34m\"Found input variables with inconsistent numbers of samples: %r\"\u001b[0m\u001b[0;34m\u001b[0m\u001b[0;34m\u001b[0m\u001b[0m\n\u001b[1;32m    399\u001b[0m             \u001b[0;34m%\u001b[0m \u001b[0;34m[\u001b[0m\u001b[0mint\u001b[0m\u001b[0;34m(\u001b[0m\u001b[0ml\u001b[0m\u001b[0;34m)\u001b[0m \u001b[0;32mfor\u001b[0m \u001b[0ml\u001b[0m \u001b[0;32min\u001b[0m \u001b[0mlengths\u001b[0m\u001b[0;34m]\u001b[0m\u001b[0;34m\u001b[0m\u001b[0;34m\u001b[0m\u001b[0m\n",
            "\u001b[0;31mValueError\u001b[0m: Found input variables with inconsistent numbers of samples: [4152, 37365]"
          ]
        }
      ]
    },
    {
      "cell_type": "code",
      "source": [
        "regr3 = linear_model.LinearRegression()\n",
        "regr3.fit(X_train3, y_train)"
      ],
      "metadata": {
        "id": "KpASFaDpytmb"
      },
      "execution_count": null,
      "outputs": []
    },
    {
      "cell_type": "code",
      "source": [
        "regr4 = linear_model.LinearRegression()\n",
        "regr4.fit(X_train4, y_train)"
      ],
      "metadata": {
        "id": "HSZZvEEvyvd2"
      },
      "execution_count": null,
      "outputs": []
    },
    {
      "cell_type": "code",
      "source": [
        "regr5 = linear_model.LinearRegression()\n",
        "regr5.fit(X_train5, y_train)"
      ],
      "metadata": {
        "id": "fpTSz1Zzywpc"
      },
      "execution_count": null,
      "outputs": []
    },
    {
      "cell_type": "code",
      "source": [
        "y_pred_train = regr.predict(X_train)\n",
        "y_pred_test = regr.predict(X_test)\n",
        "y_pred_train2 = regr2.predict(X_train2)\n",
        "y_pred_test2 = regr2.predict(X_test2)\n",
        "y_pred_train3 = regr3.predict(X_train3)\n",
        "y_pred_test3 = regr3.predict(X_test3)\n",
        "y_pred_train4 = regr4.predict(X_train4)\n",
        "y_pred_test4 = regr4.predict(X_test4)\n",
        "y_pred_train5 = regr5.predict(X_train5)\n",
        "y_pred_test5 = regr5.predict(X_test5)"
      ],
      "metadata": {
        "id": "v1wEpSpky1XD"
      },
      "execution_count": null,
      "outputs": []
    },
    {
      "cell_type": "code",
      "source": [
        "import pandas as pd\n",
        "import matplotlib.pyplot as plt\n",
        "\n",
        "columns = ['Model', 'Train error', 'Test error', 'Sum of Absolute Weights']\n",
        "model1 = \"%.2f X + %.2f\" % (regr.coef_[0][0], regr.intercept_[0])\n",
        "values1 = [ model1, np.sqrt(mean_squared_error(y_train, y_pred_train)),\n",
        "           np.sqrt(mean_squared_error(y_test, y_pred_test)),\n",
        "           np.absolute(regr.coef_[0]).sum() + np.absolute(regr.intercept_[0])]\n",
        "\n",
        "model2 = \"%.2f X + %.2f X2 + %.2f\" % (regr2.coef_[0][0], regr2.coef_[0][1], regr2.intercept_[0])\n",
        "values2 = [ model2, np.sqrt(mean_squared_error(y_train, y_pred_train2)),\n",
        "           np.sqrt(mean_squared_error(y_test, y_pred_test2)),\n",
        "           np.absolute(regr2.coef_[0]).sum() + np.absolute(regr2.intercept_[0])]\n",
        "\n",
        "model3 = \"%.2f X + %.2f X2 + %.2f X3 + %.2f\" % (regr3.coef_[0][0], regr3.coef_[0][1],\n",
        "                                                regr3.coef_[0][2], regr3.intercept_[0])\n",
        "values3 = [ model3, np.sqrt(mean_squared_error(y_train, y_pred_train3)),\n",
        "           np.sqrt(mean_squared_error(y_test, y_pred_test3)),\n",
        "           np.absolute(regr3.coef_[0]).sum() + np.absolute(regr3.intercept_[0])]\n",
        "\n",
        "model4 = \"%.2f X + %.2f X2 + %.2f X3 + %.2f X4 + %.2f\" % (regr4.coef_[0][0], regr4.coef_[0][1],\n",
        "                                        regr4.coef_[0][2], regr4.coef_[0][3], regr4.intercept_[0])\n",
        "values4 = [ model4, np.sqrt(mean_squared_error(y_train, y_pred_train4)),\n",
        "           np.sqrt(mean_squared_error(y_test, y_pred_test4)),\n",
        "           np.absolute(regr4.coef_[0]).sum() + np.absolute(regr4.intercept_[0])]\n",
        "\n",
        "model5 = \"%.2f X + %.2f X2 + %.2f X3 + %.2f X4 + %.2f X5 + %.2f\" % (regr5.coef_[0][0],\n",
        "                                        regr5.coef_[0][1], regr5.coef_[0][2],\n",
        "                                        regr5.coef_[0][3], regr5.coef_[0][4], regr5.intercept_[0])\n",
        "values5 = [ model5, np.sqrt(mean_squared_error(y_train, y_pred_train5)),\n",
        "           np.sqrt(mean_squared_error(y_test, y_pred_test5)),\n",
        "           np.absolute(regr5.coef_[0]).sum() + np.absolute(regr5.intercept_[0])]\n",
        "\n",
        "results = pd.DataFrame([values1, values2, values3, values4, values5], columns=columns)\n",
        "\n",
        "plt.plot(results['Sum of Absolute Weights'], results['Train error'], 'ro-')\n",
        "plt.plot(results['Sum of Absolute Weights'], results['Test error'], 'k*--')\n",
        "plt.legend(['Train error', 'Test error'])\n",
        "plt.xlabel('Sum of Absolute Weights')\n",
        "plt.ylabel('Error rate')\n",
        "\n",
        "results"
      ],
      "metadata": {
        "id": "Uial4SDby4CI"
      },
      "execution_count": null,
      "outputs": []
    }
  ]
}